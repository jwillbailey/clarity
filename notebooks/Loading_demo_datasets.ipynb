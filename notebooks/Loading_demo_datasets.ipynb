{
  "nbformat": 4,
  "nbformat_minor": 0,
  "metadata": {
    "colab": {
      "name": "Loading_demo_datasets.ipynb",
      "provenance": [],
      "collapsed_sections": [],
      "authorship_tag": "ABX9TyPJpW+NLykwx7DXxir8mqMx",
      "include_colab_link": true
    },
    "kernelspec": {
      "name": "python3",
      "display_name": "Python 3"
    },
    "language_info": {
      "name": "python"
    }
  },
  "cells": [
    {
      "cell_type": "markdown",
      "metadata": {
        "id": "view-in-github",
        "colab_type": "text"
      },
      "source": [
        "<a href=\"https://colab.research.google.com/github/jwillbailey/clarity/blob/main/notebooks/Loading_demo_datasets.ipynb\" target=\"_parent\"><img src=\"https://colab.research.google.com/assets/colab-badge.svg\" alt=\"Open In Colab\"/></a>"
      ]
    },
    {
      "cell_type": "markdown",
      "source": [
        "**Accessing Data**\n",
        "\n",
        "Currently the data is stored on Google Drive. Files are accessed using direct download links with the <code>gdown</code> module.\n",
        "\n"
      ],
      "metadata": {
        "id": "S1152YQCSgXg"
      }
    },
    {
      "cell_type": "code",
      "source": [
        "import gdown"
      ],
      "metadata": {
        "id": "0gaOQFCBcSX1"
      },
      "execution_count": 1,
      "outputs": []
    },
    {
      "cell_type": "markdown",
      "source": [
        "Once downloaded, data is unzipped using tar and the compressed files are deleted to free up space.\n",
        "\n",
        "There are 5 elements to the dataset which can are downloadable separately. \n",
        "\n",
        " - metadata: Information on scene definitions, room definitions and information on target and interferer signals\n",
        "\n",
        " - targets: target audio\n",
        " - interferers: interferer audio (noise, music and speech)\n",
        " - rooms: AC3D models, RPF filea and HOA impulse responses (wav format). \n",
        " - scenes: binaural stimuli. seperate target, interferer and mixed audio. Head rotation data.\n",
        "\n",
        "\n",
        " The below code is contained within the <code>clarity.notebooks.demo_data</code> module which has functions for getting the individual demo dataset components\n",
        "\n",
        " <code>clarity.notebooks.demo_data.get_metadata_demo()</code>"
      ],
      "metadata": {
        "id": "ARYzRXH3cRND"
      }
    },
    {
      "cell_type": "code",
      "execution_count": null,
      "metadata": {
        "id": "KrRSExZHJyZT"
      },
      "outputs": [],
      "source": [
        "metadata_url = 'https://drive.google.com/uc?export=download&id=14KGm2GaRgwlrZvtmMwWTYu7itaRVQV8f'\n",
        "output = 'metadata.tgz'\n",
        "\n",
        "gdown.download(metadata_url, output, quiet=False)\n",
        "!tar -xvzf metadata.tgz\n",
        "!rm metadata.tgz\n",
        "!ls"
      ]
    },
    {
      "cell_type": "markdown",
      "source": [
        "---\n",
        " <code>clarity.notebooks.demo_data.get_targets_demo()</code>"
      ],
      "metadata": {
        "id": "SLEkan19cjAi"
      }
    },
    {
      "cell_type": "code",
      "source": [
        "\n",
        "targets_url = 'https://drive.google.com/uc?export=download&id=1uu2Hes1fzqNaZSCiFNhxZM3bE_fAVKsD'\n",
        "output = 'targets.tgz'\n",
        "\n",
        "gdown.download(targets_url, output, quiet=False)\n",
        "!tar -xzf targets.tgz\n",
        "!rm targets.tgz\n",
        "!ls"
      ],
      "metadata": {
        "id": "YhXcaXgmKKiB"
      },
      "execution_count": null,
      "outputs": []
    },
    {
      "cell_type": "markdown",
      "source": [
        "---\n",
        " <code>clarity.notebooks.demo_data.get_interferers_demo()</code>\n"
      ],
      "metadata": {
        "id": "JLaaJy0jcloq"
      }
    },
    {
      "cell_type": "code",
      "source": [
        "\n",
        "interferers_url = 'https://drive.google.com/uc?export=download&id=1_ssD238Qv-EETzC0hJze7JhLE7bHyqwG'\n",
        "output = 'interferers.tgz'\n",
        "\n",
        "gdown.download(interferers_url, output, quiet=False)\n",
        "!tar -xzf interferers.tgz\n",
        "!rm interferers.tgz\n",
        "!ls"
      ],
      "metadata": {
        "id": "mjnLZhlaNpv6"
      },
      "execution_count": null,
      "outputs": []
    },
    {
      "cell_type": "markdown",
      "source": [
        "---\n",
        "<code>clarity.notebooks.demo_data.get_rooms_demo()</code>\n",
        "\n",
        "\n"
      ],
      "metadata": {
        "id": "umy-dNytcx6I"
      }
    },
    {
      "cell_type": "code",
      "source": [
        "rooms_url = 'https://drive.google.com/uc?export=download&id=1FBC8DI4Ru-g3Set0fDzoKmXTqHqNXV8n'\n",
        "output = 'rooms.tgz'\n",
        "\n",
        "gdown.download(rooms_url, output, quiet=False)\n",
        "!tar -xzf rooms.tgz\n",
        "!rm rooms.tgz\n",
        "!ls"
      ],
      "metadata": {
        "id": "hNbcpbTvOxGp"
      },
      "execution_count": null,
      "outputs": []
    },
    {
      "cell_type": "markdown",
      "source": [
        "---\n",
        "<code>clarity.notebooks.demo_data.get_scenes_demo()</code>\n"
      ],
      "metadata": {
        "id": "vo4dO1ejc2yM"
      }
    },
    {
      "cell_type": "code",
      "source": [
        "scenes_url = 'https://drive.google.com/uc?export=download&id=1PB0CfGXhpkYNk8HbE5lTWowm2016x6Hl'\n",
        "output = 'scenes.tgz'\n",
        "\n",
        "gdown.download(scenes_url, output, quiet=False)\n",
        "!tar -xzf scenes.tgz\n",
        "!rm scenes.tgz\n",
        "!ls"
      ],
      "metadata": {
        "id": "W12hrYvnRJJZ"
      },
      "execution_count": null,
      "outputs": []
    },
    {
      "cell_type": "markdown",
      "source": [
        "---\n",
        "\n",
        "Once the above code or helper functions have been run, the downloaded data will be downloaded and extracted to a folder named <code>demo</code> in your notebook working directory and accessible for exploring the data generation and analysis tools and for prototyping your own work\n",
        "\n"
      ],
      "metadata": {
        "id": "ijstb6H_dMRT"
      }
    },
    {
      "cell_type": "code",
      "source": [
        "print('working directory:')\n",
        "!ls\n",
        "print('demo directory:')\n",
        "!ls demo"
      ],
      "metadata": {
        "id": "TSjyUPN6hghN"
      },
      "execution_count": null,
      "outputs": []
    }
  ]
}
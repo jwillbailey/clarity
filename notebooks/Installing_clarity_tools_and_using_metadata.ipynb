{
  "nbformat": 4,
  "nbformat_minor": 0,
  "metadata": {
    "colab": {
      "name": "Installing_clarity_tools_and_using_metadata.ipynb",
      "provenance": [],
      "collapsed_sections": [],
      "authorship_tag": "ABX9TyOxgX7/pzYqgiAC+stcicSN",
      "include_colab_link": true
    },
    "kernelspec": {
      "name": "python3",
      "display_name": "Python 3"
    },
    "language_info": {
      "name": "python"
    }
  },
  "cells": [
    {
      "cell_type": "markdown",
      "metadata": {
        "id": "view-in-github",
        "colab_type": "text"
      },
      "source": [
        "<a href=\"https://colab.research.google.com/github/jwillbailey/clarity/blob/main/notebooks/Installing_clarity_tools_and_using_metadata.ipynb\" target=\"_parent\"><img src=\"https://colab.research.google.com/assets/colab-badge.svg\" alt=\"Open In Colab\"/></a>"
      ]
    },
    {
      "cell_type": "markdown",
      "source": [
        "#**Installing Clarity Enhancement Challenge Tools and Interacting with Metadata**\n",
        "\n",
        "The clarity enhancement challenge tools can be found on the <a href=\"https://github.com/claritychallenge/clarity\"> Clarity Challenges Github project</a> \n",
        "To begin, first clone the git repository. The default directory is named <code>clarity</code>.\n",
        "\n",
        "Then run the installation shell commands found in the <a href=\"https://github.com/claritychallenge/clarity/blob/main/README.md\">README.md</a> file."
      ],
      "metadata": {
        "id": "gHAjmGrpv1wP"
      }
    },
    {
      "cell_type": "code",
      "source": [
        "print('Cloning git repo...')\n",
        "!git clone --quiet https://github.com/jwillbailey/clarity.git\n",
        "\n",
        "print('Changing directory...')\n",
        "%cd clarity\n",
        "\n",
        "print('Installing requirements with pip...')\n",
        "!pip install -qr requirements.txt\n",
        "!more setup.py\n",
        "print('Setting up toolkit modules...')\n",
        "!pip install -e .\n",
        "%cd /content/"
      ],
      "metadata": {
        "id": "FoDXO-ILXrRB"
      },
      "execution_count": null,
      "outputs": []
    },
    {
      "cell_type": "markdown",
      "source": [
        "---\n",
        "In order to demonstrate basic functionality, a smaller demo dataset is available through the <code>demo_data</code> module. Running the following functions downloads different components of the datasets*:\n",
        "\n",
        "  - <code>get_metadata_demo()</code>\n",
        "  - <code>get_targets_demo()</code>\n",
        "  - <code>get_interferers_demo()</code>\n",
        "  - <code>get_rooms_demo()</code>\n",
        "  - <code>get_scenes_demo()</code>\n",
        "\n",
        "For this demonstration we will download and install just the metadata for the dataset\n",
        "\n",
        "---\n",
        "<small>\n",
        "*Details on the content of the demo dataset and manual download instructions can be found in <a href=\"https://github.com/jwillbailey/clarity/blob/main/notebooks/Loading_demo_datasets.ipynb\">this notebook</a> \n",
        "</small>"
      ],
      "metadata": {
        "id": "je0YGzV9x02A"
      }
    },
    {
      "cell_type": "code",
      "source": [
        "import clarity\n",
        "from clarity.notebooks import demo_data\n",
        "\n",
        "demo_data.get_metadata_demo()\n",
        "\n",
        "print('\\n~/demo:')\n",
        "!ls demo\n",
        "\n",
        "print('\\n~/demo/metadata:')\n",
        "!ls demo/metadata"
      ],
      "metadata": {
        "id": "ilDkGAzdXulr"
      },
      "execution_count": null,
      "outputs": []
    },
    {
      "cell_type": "markdown",
      "source": [
        "---\n",
        "The clarity metadata is stored in JSON format. The python JSON library imports JSON files and parses them into a list of python dicts"
      ],
      "metadata": {
        "id": "gaRk7WW90_iz"
      }
    },
    {
      "cell_type": "code",
      "source": [
        "import json\n",
        "\n",
        "with open('demo/metadata/scenes.demo.json') as f:\n",
        "  scenes = json.load(f)\n",
        "\n",
        "with open('demo/metadata/rooms.demo.json') as f:\n",
        "  rooms = json.load(f)\n",
        "\n",
        "with open('demo/metadata/scenes_listeners.dev.json') as f:\n",
        "  scenes_listeners = json.load(f)\n",
        "\n",
        "with open('demo/metadata/listeners.json') as f:\n",
        "  listeners = json.load(f)\n"
      ],
      "metadata": {
        "id": "SrE0H-42isej"
      },
      "execution_count": 63,
      "outputs": []
    },
    {
      "cell_type": "markdown",
      "source": [
        "---\n",
        "We can now access the metadata using the dictionary's keys"
      ],
      "metadata": {
        "id": "ZcSKwqIjcEn3"
      }
    },
    {
      "cell_type": "code",
      "source": [
        "print(scenes[0].keys())"
      ],
      "metadata": {
        "id": "gSeAvNm3WccT",
        "colab": {
          "base_uri": "https://localhost:8080/"
        },
        "outputId": "22d6eb59-fcd7-47eb-e656-d44c760fa639"
      },
      "execution_count": 85,
      "outputs": [
        {
          "output_type": "stream",
          "name": "stdout",
          "text": [
            "dict_keys(['dataset', 'room', 'scene', 'target', 'duration', 'interferers', 'SNR', 'listener'])\n"
          ]
        }
      ]
    },
    {
      "cell_type": "markdown",
      "source": [
        "It is then possible to access lists of metadata using list comprehensions and use these as any other data in python."
      ],
      "metadata": {
        "id": "_39YsucZdf5d"
      }
    },
    {
      "cell_type": "code",
      "source": [
        "%matplotlib inline  \n",
        "from matplotlib import pyplot as plt\n",
        "import numpy as np\n",
        "\n",
        "fig, ax = plt.subplots(1,2)\n",
        "\n",
        "#Get list of SNRs of scenes\n",
        "snr_values = np.array([s['SNR'] for s in scenes], dtype = 'float32')\n",
        "\n",
        "#Plot histogram\n",
        "ax[0].hist(snr_values)\n",
        "ax[0].set_title('Histogram of SNR values')\n",
        "ax[0].set_xlabel('SNR (dB)')\n",
        "\n",
        "#Get list of number of interferers in scenes\n",
        "n_interferers = np.array([len(s['interferers']) for s in scenes], dtype = 'int32')\n",
        "\n",
        "#Prepare data for boxplot\n",
        "snr_comparison_data = [\n",
        "                       [s for s, n in zip(snr_values, n_interferers) if n==2], \n",
        "                       [s for s, n in zip(snr_values, n_interferers) if n==3]\n",
        "                       ]\n",
        "\n",
        "#Plot boxplot\n",
        "ax[1].boxplot(np.array(snr_comparison_data, dtype = 'object'))\n",
        "ax[1].set_xlabel('Number of interferers')\n",
        "ax[1].set_ylabel('SNR (dB)')\n",
        "\n",
        "plt.subplots_adjust(left=0.1,\n",
        "                    bottom=0.1, \n",
        "                    right=0.9, \n",
        "                    top=0.9, \n",
        "                    wspace=0.4, \n",
        "                    hspace=0.4)\n",
        "\n",
        "fig.show()"
      ],
      "metadata": {
        "id": "XHOb_v1NW5EN",
        "colab": {
          "base_uri": "https://localhost:8080/",
          "height": 308
        },
        "outputId": "3727f560-179f-44cf-df94-5b6bb24ed1d3"
      },
      "execution_count": 86,
      "outputs": [
        {
          "output_type": "display_data",
          "data": {
            "text/plain": [
              "<Figure size 432x288 with 2 Axes>"
            ],
            "image/png": "[encoded data removed]"
          },
          "metadata": {
            "needs_background": "light"
          }
        }
      ]
    },
    {
      "cell_type": "markdown",
      "source": [
        "---\n",
        "The metadata is organised in such as way so that results from a query on one dict can, and in many cases should, be used to index another. For example information about the simulated room for a given scene can be retrieved using metadata retreived from a given scene entry "
      ],
      "metadata": {
        "id": "dXgokocLlO-y"
      }
    },
    {
      "cell_type": "code",
      "source": [
        "scene_no = 32\n",
        "\n",
        "scene = scenes[scene_no]\n",
        "\n",
        "room = [r for r in rooms if r['name'] == scene['room']]\n",
        "current_listeners = scenes_listeners[scene[\"scene\"]]\n",
        "\n",
        "print(room[0].keys())\n",
        "\n",
        "print(f'\\nScene number {scene_no} with ID {scene[\"scene\"]} has room dimensions of {room[0][\"dimensions\"]}')\n",
        "\n",
        "print(f'\\nSimulated listeners for scene {scene_no} have spatial attributes: \\n{room[0][\"listener\"]}')\n",
        "\n",
        "print(f'\\n\\nAudiograms for listeners in Scene ID {scene[\"scene\"]}')\n",
        "\n",
        "\n",
        "fig, ax = plt.subplots(1, len(current_listeners))\n",
        "\n",
        "ax[0].set_ylabel('Hearing level (dB))')  \n",
        "for i, l in enumerate(current_listeners):\n",
        "  listener_data = listeners[l]\n",
        "  left_ag, = ax[i].plot(listener_data['audiogram_cfs'], listener_data['audiogram_levels_l'], label = \"left audiogram\")\n",
        "  right_ag, = ax[i].plot(listener_data['audiogram_cfs'], listener_data['audiogram_levels_r'], label = \"right audiogram\")\n",
        "  ax[i].set_title(f'Listener {l}')\n",
        "  ax[i].set_xlabel('Hz')\n",
        "  ax[i].set_ylim([0,80])\n",
        "\n",
        "plt.legend(handles=[left_ag, right_ag])\n",
        "plt.subplots_adjust(left=0.1,\n",
        "                    bottom=0.1, \n",
        "                    right=0.9, \n",
        "                    top=0.9, \n",
        "                    wspace=0.4, \n",
        "                    hspace=0.4)\n"
      ],
      "metadata": {
        "colab": {
          "base_uri": "https://localhost:8080/",
          "height": 464
        },
        "id": "Ms1DrhVMl0DL",
        "outputId": "45841fb7-1930-4266-b9b7-c34176f06770"
      },
      "execution_count": 83,
      "outputs": [
        {
          "output_type": "stream",
          "name": "stdout",
          "text": [
            "dict_keys(['name', 'dimensions', 'target', 'listener', 'interferers'])\n",
            "\n",
            "Scene number 32 with ID S06033 has room dimensions of 4.627x3.7x2.8\n",
            "\n",
            "Simulated listeners for scene 32 have spatial attributes: \n",
            "{'position': [0.4, 2.4, 1.2], 'view_vector': [-0.447, -0.894, 0.0]}\n",
            "\n",
            "\n",
            "Audiograms for listeners in Scene ID S06033\n"
          ]
        },
        {
          "output_type": "display_data",
          "data": {
            "text/plain": [
              "<Figure size 432x288 with 3 Axes>"
            ],
            "image/png": "[encoded data removed]"
          },
          "metadata": {
            "needs_background": "light"
          }
        }
      ]
    }
  ]
}